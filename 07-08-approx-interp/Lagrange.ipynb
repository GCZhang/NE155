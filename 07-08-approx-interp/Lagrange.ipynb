{
 "cells": [
  {
   "cell_type": "markdown",
   "metadata": {},
   "source": [
    "# Lagrange Interpolating Polynomials"
   ]
  },
  {
   "cell_type": "markdown",
   "metadata": {},
   "source": [
    "## Manual Definitions"
   ]
  },
  {
   "cell_type": "markdown",
   "metadata": {},
   "source": [
    "A simple illustration of Interpolation with Lagrange polynomials:\n",
    "\n",
    "$$\n",
    "L_k(x) = \\prod_{i=0, i \\neq k}^n \\frac{\\left(x-x_i\\right)}{\\left(x_k-x_i\\right)}\n",
    "$$\n",
    "<br>\n",
    "\n",
    "Let's choose $n=2$; define our Lagrange polynomials both explicitly and algorithmically."
   ]
  },
  {
   "cell_type": "markdown",
   "metadata": {},
   "source": [
    "$$\n",
    "L_0(x) = \\frac{(x - 2.5)(x - 4.0)}{(2.0 - 2.5)(2.0 - 4.0)} = x^2 - 6.5x + 10 \\\\\n",
    "L_1(x) = \\frac{(x - 2.0)(x - 4.0)}{(2.5 - 2.0)(2.5 - 4.0)} = \\frac{-4x^2 + 24x - 32}{3} \\\\\n",
    "L_2(x) = \\frac{(x - 2.0)(x - 2.5)}{(4.0 - 2.0)(4.0 - 2.5)} = \\frac{x^2 - 4.5x + 5}{3} \\\\\n",
    "$$"
   ]
  },
  {
   "cell_type": "code",
   "execution_count": 1,
   "metadata": {
    "collapsed": false
   },
   "outputs": [
    {
     "name": "stderr",
     "output_type": "stream",
     "text": [
      "Vendor:  Continuum Analytics, Inc.\n",
      "Package: mkl\n",
      "Message: trial mode expires in 30 days\n"
     ]
    }
   ],
   "source": [
    "import numpy as np\n",
    "\n",
    "# k is the index of the lagrange polynomial\n",
    "# pts are the locations where we have fixed values\n",
    "# x is the point at which we're evaluating the polynomial\n",
    "def L(k, pts, x):\n",
    "    \n",
    "    # initialize the product\n",
    "    prod = 1.0\n",
    "    \n",
    "    # loop over the points, skipping i = k\n",
    "    for i in range(len(pts)):\n",
    "        if (i != k):\n",
    "            prod = prod*(x - pts[i])/(pts[k] - pts[i])\n",
    "    return prod"
   ]
  },
  {
   "cell_type": "markdown",
   "metadata": {},
   "source": [
    "To combine the polynomials and actually compute an approximation, we use the formula:\n",
    "\n",
    "$$\n",
    "P(x) = \\sum_{k=0}^2 f(x_k)L_k(x) \\\\\n",
    "$$\n",
    "\n",
    "First, we need to define a function to approximate and the three points at which to approximate it."
   ]
  },
  {
   "cell_type": "code",
   "execution_count": 2,
   "metadata": {
    "collapsed": true
   },
   "outputs": [],
   "source": [
    "# use 1/x\n",
    "def f(x):\n",
    "    return 1.0/x\n",
    "\n",
    "# choose 3 points\n",
    "x_points = np.array([2.0, 2.5, 4.0])\n"
   ]
  },
  {
   "cell_type": "markdown",
   "metadata": {},
   "source": [
    "Now, let's compute and look at each polynomial over $[0, 6]$."
   ]
  },
  {
   "cell_type": "code",
   "execution_count": 3,
   "metadata": {
    "collapsed": true
   },
   "outputs": [],
   "source": [
    "import numpy as np\n",
    "\n",
    "# Get a bunch of points at which to evaluate the polynomials\n",
    "x = np.linspace(0.1, 10, 200)\n",
    "\n",
    "# Get each lagrange polynomial (for n=2 case)\n",
    "L0 = L(0, x_points, x)\n",
    "L1 = L(1, x_points, x)\n",
    "L2 = L(2, x_points, x)"
   ]
  },
  {
   "cell_type": "markdown",
   "metadata": {},
   "source": [
    "Plot all three polynomials separately."
   ]
  },
  {
   "cell_type": "code",
   "execution_count": 4,
   "metadata": {
    "collapsed": false
   },
   "outputs": [
    {
     "data": {
      "text/plain": [
       "<matplotlib.legend.Legend at 0x7feb03ca52d0>"
      ]
     },
     "execution_count": 4,
     "metadata": {},
     "output_type": "execute_result"
    },
    {
     "data": {
      "image/png": "[encoded data removed]",
      "text/plain": [
       "<matplotlib.figure.Figure at 0x7feb24e90b90>"
      ]
     },
     "metadata": {},
     "output_type": "display_data"
    }
   ],
   "source": [
    "%matplotlib inline\n",
    "import matplotlib.pyplot as plt\n",
    "\n",
    "plt.plot(x, L0, 'b')\n",
    "plt.plot(x, L1, 'g')\n",
    "plt.plot(x, L2, 'k')\n",
    "plt.axis([0, 6, -10, 10])\n",
    "plt.legend((\"L0\", \"L1\", \"L2\"), loc=\"upper center\")"
   ]
  },
  {
   "cell_type": "markdown",
   "metadata": {},
   "source": [
    "Now let's combine the polynomials, plot the output, and compare to $f(x)$ itself. "
   ]
  },
  {
   "cell_type": "code",
   "execution_count": 5,
   "metadata": {
    "collapsed": false
   },
   "outputs": [
    {
     "data": {
      "text/plain": [
       "<matplotlib.legend.Legend at 0x7feb039bdbd0>"
      ]
     },
     "execution_count": 5,
     "metadata": {},
     "output_type": "execute_result"
    },
    {
     "data": {
      "image/png": "[encoded data removed]",
      "text/plain": [
       "<matplotlib.figure.Figure at 0x7feb059b3fd0>"
      ]
     },
     "metadata": {},
     "output_type": "display_data"
    }
   ],
   "source": [
    "# We take the function evaluated at each of our chosen locations and multiply by our computed polynomials\n",
    "P = f(x_points[0])*L0 + f(x_points[1])*L1 + f(x_points[2])*L2\n",
    "\n",
    "# This is just the function evaluation\n",
    "F = f(x)\n",
    "f_vals = f(x_points)\n",
    "\n",
    "plt.plot(x, P, 'b')\n",
    "plt.plot(x, F, 'g')\n",
    "plt.plot(x_points, f_vals, '*')\n",
    "plt.legend((\"Interpolation\", \"Function\", \"points\"), loc=\"upper center\")"
   ]
  },
  {
   "cell_type": "markdown",
   "metadata": {},
   "source": [
    "## Using SciPy"
   ]
  },
  {
   "cell_type": "markdown",
   "metadata": {},
   "source": [
    "But isn't Python supposed to be super useful? Can't we just do all of that in Python?\n",
    "\n",
    "YES, we can. SciPy () has a Lagrange polynomial interpolation function."
   ]
  },
  {
   "cell_type": "code",
   "execution_count": 6,
   "metadata": {
    "collapsed": false
   },
   "outputs": [
    {
     "data": {
      "text/plain": [
       "<matplotlib.legend.Legend at 0x7feafebe3a50>"
      ]
     },
     "execution_count": 6,
     "metadata": {},
     "output_type": "execute_result"
    },
    {
     "data": {
      "image/png": "[encoded data removed]",
      "text/plain": [
       "<matplotlib.figure.Figure at 0x7feb0396b410>"
      ]
     },
     "metadata": {},
     "output_type": "display_data"
    }
   ],
   "source": [
    "import scipy.interpolate as interp\n",
    "\n",
    "# evaulate the function at our chosen 3 points\n",
    "f_vals = f(x_points)\n",
    "\n",
    "# Get the interpolating polynomial\n",
    "P_scipy = interp.lagrange(x_points, f_vals)\n",
    "\n",
    "# Evaluate the polynomial at our many x locations to get a smooth line\n",
    "vals_scipy = P_scipy(x)\n",
    "\n",
    "plt.plot(x, vals_scipy, 'b')\n",
    "plt.plot(x, F, 'g')\n",
    "plt.plot(x_points, f_vals, '*')\n",
    "plt.legend((\"Interpolation\", \"Function\", \"points\"), loc=\"upper center\")"
   ]
  },
  {
   "cell_type": "markdown",
   "metadata": {},
   "source": [
    "## Unknown Functions"
   ]
  },
  {
   "cell_type": "markdown",
   "metadata": {},
   "source": [
    "Ideally we'd like to be able to approximate data for which we don't already know the function. What might that look like?"
   ]
  },
  {
   "cell_type": "code",
   "execution_count": 7,
   "metadata": {
    "collapsed": false
   },
   "outputs": [
    {
     "data": {
      "text/plain": [
       "<matplotlib.legend.Legend at 0x7feafeb33f50>"
      ]
     },
     "execution_count": 7,
     "metadata": {},
     "output_type": "execute_result"
    },
    {
     "data": {
      "image/png": "[encoded data removed]",
      "text/plain": [
       "<matplotlib.figure.Figure at 0x7feafec0d4d0>"
      ]
     },
     "metadata": {},
     "output_type": "display_data"
    }
   ],
   "source": [
    "# We've got 7 points where we'll look (meaning n=7)\n",
    "x2_points = np.arange(1,7)\n",
    "\n",
    "# our function evaluations (data)\n",
    "f2_vals = [16, 18, 21, 17, 15, 12]\n",
    "\n",
    "# and we'll evaluate our end polynomial at these many points\n",
    "x = np.arange(0.75, 6.30, 0.05)\n",
    "\n",
    "# compute the polynomial at the points of interest.\n",
    "P = 0\n",
    "for i in range(len(x2_points)):\n",
    "    P = P + f2_vals[i]*L(i, x2_points, x)\n",
    "    \n",
    "plt.plot(x, P, 'b')\n",
    "plt.plot(x2_points, f2_vals, 'g*')\n",
    "plt.legend((\"Interpolation\", \"points\"), loc=\"lower center\")"
   ]
  },
  {
   "cell_type": "code",
   "execution_count": null,
   "metadata": {
    "collapsed": false
   },
   "outputs": [],
   "source": []
  }
 ],
 "metadata": {
  "kernelspec": {
   "display_name": "Python 2",
   "language": "python",
   "name": "python2"
  },
  "language_info": {
   "codemirror_mode": {
    "name": "ipython",
    "version": 2
   },
   "file_extension": ".py",
   "mimetype": "text/x-python",
   "name": "python",
   "nbconvert_exporter": "python",
   "pygments_lexer": "ipython2",
   "version": "2.7.11"
  }
 },
 "nbformat": 4,
 "nbformat_minor": 0
}
