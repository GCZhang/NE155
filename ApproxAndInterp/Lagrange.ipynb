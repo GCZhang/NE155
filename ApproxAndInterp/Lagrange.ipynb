{
 "metadata": {
  "name": ""
 },
 "nbformat": 3,
 "nbformat_minor": 0,
 "worksheets": [
  {
   "cells": [
    {
     "cell_type": "heading",
     "level": 1,
     "metadata": {},
     "source": [
      "Lagrange Interpolating Polynomials"
     ]
    },
    {
     "cell_type": "heading",
     "level": 2,
     "metadata": {},
     "source": [
      "Manual Definitions"
     ]
    },
    {
     "cell_type": "markdown",
     "metadata": {},
     "source": [
      "A simple illustration of Interpolation with Lagrange polynomials:\n",
      "\n",
      "$$\n",
      "L_k(x) = \\prod_{i=0, i \\neq k}^n \\frac{\\left(x-x_i\\right)}{\\left(x_k-x_i\\right)}\n",
      "$$\n",
      "<br>\n",
      "\n",
      "Next, let's say we're going to go up to $k=0$ and define our Lagrange polynomials both explicitly and algorithmically."
     ]
    },
    {
     "cell_type": "markdown",
     "metadata": {},
     "source": [
      "$$\n",
      "L_0(x) = \\frac{(x - 2.5)(x - 4.0)}{(2.0 - 2.5)(2.0 - 4.0)} = x^2 - 6.5x + 10 \\\\\n",
      "L_1(x) = \\frac{(x - 2.0)(x - 4.0)}{(2.5 - 2.0)(2.5 - 4.0)} = \\frac{-4x^2 + 24x - 32}{3} \\\\\n",
      "L_2(x) = \\frac{(x - 2.0)(x - 2.5)}{(4.0 - 2.0)(4.0 - 2.5)} = \\frac{x^2 - 4.5x + 5}{3} \\\\\n",
      "$$"
     ]
    },
    {
     "cell_type": "code",
     "collapsed": true,
     "input": [
      "def L(k,x,pts):\n",
      "    prod = 1.0\n",
      "    for i in range(len(pts)):\n",
      "        if (i != k):\n",
      "            prod = prod*(x - pts[i])/(pts[k] - pts[i])\n",
      "    return prod"
     ],
     "language": "python",
     "metadata": {},
     "outputs": [],
     "prompt_number": 7
    },
    {
     "cell_type": "markdown",
     "metadata": {},
     "source": [
      "Now, let's compute and look at each polynomial over $[0, 6]$."
     ]
    },
    {
     "cell_type": "code",
     "collapsed": true,
     "input": [
      "import numpy as np\n",
      "\n",
      "#x = np.linspace(0, 10, 200)\n",
      "L0 = L(0, x, x_vals)\n",
      "L1 = L(1, x, x_vals)\n",
      "L2 = L(2, x, x_vals)"
     ],
     "language": "python",
     "metadata": {},
     "outputs": [],
     "prompt_number": 21
    },
    {
     "cell_type": "markdown",
     "metadata": {},
     "source": [
      "Plot all three polynomials separately."
     ]
    },
    {
     "cell_type": "code",
     "collapsed": false,
     "input": [
      "%matplotlib inline\n",
      "import matplotlib.pyplot as plt\n",
      "\n",
      "plt.plot(x, L0, 'b')\n",
      "plt.plot(x, L1, 'g')\n",
      "plt.plot(x, L2, 'k')\n",
      "plt.axis([0, 6, -10, 10])\n",
      "plt.legend((\"L0\", \"L1\", \"L2\"), loc=\"upper center\")"
     ],
     "language": "python",
     "metadata": {},
     "outputs": [
      {
       "metadata": {},
       "output_type": "pyout",
       "prompt_number": 9,
       "text": [
        "<matplotlib.legend.Legend at 0x3d60750>"
       ]
      },
      {
       "metadata": {},
       "output_type": "display_data",
       "png": "[encoded data removed]",
       "text": [
        "<matplotlib.figure.Figure at 0x3369d50>"
       ]
      }
     ],
     "prompt_number": 9
    },
    {
     "cell_type": "markdown",
     "metadata": {},
     "source": [
      "To combine the polynomials and actually compute an approximation, we use the formula:"
     ]
    },
    {
     "cell_type": "markdown",
     "metadata": {},
     "source": [
      "$$\n",
      "P(x) = \\sum_{k=0}^2 f(x_k)L_k(x) \\\\\n",
      "$$\n",
      "\n",
      "First, we need to define a function to approximate and the three points at which to approximate it."
     ]
    },
    {
     "cell_type": "code",
     "collapsed": true,
     "input": [
      "def f(x):\n",
      "    return 1.0/x\n",
      "\n",
      "x_vals = np.array([2.0, 2.5, 4.0])\n",
      "print x_vals"
     ],
     "language": "python",
     "metadata": {},
     "outputs": [
      {
       "output_type": "stream",
       "stream": "stdout",
       "text": [
        "[ 2.   2.5  4. ]\n"
       ]
      }
     ],
     "prompt_number": 30
    },
    {
     "cell_type": "markdown",
     "metadata": {},
     "source": [
      "Now let's combine the polynomials, plot the output, and compare to $f(x)$ itself. "
     ]
    },
    {
     "cell_type": "code",
     "collapsed": false,
     "input": [
      "P = f(x_vals[0])*L0 + f(x_vals[1])*L1 + f(x_vals[2])*L2\n",
      "F = f(x)\n",
      "plt.plot(x, P, 'b')\n",
      "plt.plot(x, F, 'g')\n",
      "plt.plot(x_vals, f_vals, '*')\n",
      "#plt.axis([0, 6, -10, 10])\n",
      "plt.legend((\"Interpolation\", \"Function\", \"points\"), loc=\"upper center\")"
     ],
     "language": "python",
     "metadata": {},
     "outputs": [
      {
       "metadata": {},
       "output_type": "pyout",
       "prompt_number": 47,
       "text": [
        "<matplotlib.legend.Legend at 0x56e3ed0>"
       ]
      },
      {
       "metadata": {},
       "output_type": "display_data",
       "png": "[encoded data removed]",
       "text": [
        "<matplotlib.figure.Figure at 0x57252d0>"
       ]
      }
     ],
     "prompt_number": 47
    },
    {
     "cell_type": "heading",
     "level": 2,
     "metadata": {},
     "source": [
      "Using SciPy"
     ]
    },
    {
     "cell_type": "markdown",
     "metadata": {},
     "source": [
      "But isn't Python supposed to be super useful? Can't we just do all of that in Python?\n",
      "\n",
      "YES, we can. SciPy () has a Lagrange polynomial interpolation function."
     ]
    },
    {
     "cell_type": "code",
     "collapsed": false,
     "input": [
      "import scipy.interpolate as interp\n",
      "\n",
      "f_vals = f(x_vals)\n",
      "P_scipy = interp.lagrange(x_vals, f_vals)\n",
      "vals_scipy = P_scipy(x)\n",
      "\n",
      "plt.plot(x, vals_scipy, 'b')\n",
      "plt.plot(x, F, 'g')\n",
      "plt.plot(x_vals, f_vals, '*')\n",
      "#plt.axis([0, 6, -10, 10])\n",
      "plt.legend((\"Interpolation\", \"Function\", \"points\"), loc=\"upper center\")"
     ],
     "language": "python",
     "metadata": {},
     "outputs": [
      {
       "metadata": {},
       "output_type": "pyout",
       "prompt_number": 48,
       "text": [
        "<matplotlib.legend.Legend at 0x4b94710>"
       ]
      },
      {
       "metadata": {},
       "output_type": "display_data",
       "png": "[encoded data removed]",
       "text": [
        "<matplotlib.figure.Figure at 0x54fac10>"
       ]
      }
     ],
     "prompt_number": 48
    },
    {
     "cell_type": "code",
     "collapsed": false,
     "input": [],
     "language": "python",
     "metadata": {},
     "outputs": []
    }
   ],
   "metadata": {}
  }
 ]
}