{
 "metadata": {
  "name": ""
 },
 "nbformat": 3,
 "nbformat_minor": 0,
 "worksheets": [
  {
   "cells": [
    {
     "cell_type": "heading",
     "level": 1,
     "metadata": {},
     "source": [
      "Lagrange Interpolating Polynomials"
     ]
    },
    {
     "cell_type": "markdown",
     "metadata": {},
     "source": [
      "A simple illustration of Interpolation with Lagrange polynomials:\n",
      "\n",
      "$$\n",
      "L_k(x) = \\prod_{i=0, i \\neq k}^n \\frac{\\left(x-x_i\\right)}{\\left(x_k-x_i\\right)}\n",
      "$$\n",
      "<br>\n",
      "First, let's define a function to approximate and three points at which to approximate it (so we'll get a 2nd order polynomial)."
     ]
    },
    {
     "cell_type": "code",
     "collapsed": false,
     "input": [
      "%matplotlib inline\n",
      "import numpy as np\n",
      "import matplotlib.pyplot as plt"
     ],
     "language": "python",
     "metadata": {},
     "outputs": [],
     "prompt_number": 17
    },
    {
     "cell_type": "code",
     "collapsed": true,
     "input": [
      "def f(x):\n",
      "    return 1.0/x\n",
      "\n",
      "x_vals = [2.0, 2.5, 4.0]"
     ],
     "language": "python",
     "metadata": {},
     "outputs": [],
     "prompt_number": 18
    },
    {
     "cell_type": "markdown",
     "metadata": {},
     "source": [
      "Next, let's define our Lagrange polynomials."
     ]
    },
    {
     "cell_type": "code",
     "collapsed": true,
     "input": [
      "def L(i,x,pts):\n",
      "    prod = 1.0\n",
      "    for j in range(len(pts)):\n",
      "        if (j != i):\n",
      "            prod = prod*(x - pts[j])/(pts[i] - pts[j])\n",
      "    return prod"
     ],
     "language": "python",
     "metadata": {},
     "outputs": [],
     "prompt_number": 19
    },
    {
     "cell_type": "markdown",
     "metadata": {},
     "source": [
      "Now, let's compute and look at each polynomial over [0, 6]."
     ]
    },
    {
     "cell_type": "code",
     "collapsed": true,
     "input": [
      "x = np.linspace(0, 10, 200)\n",
      "L0 = L(0, x, x_vals)\n",
      "L1 = L(1, x, x_vals)\n",
      "L2 = L(2, x, x_vals)"
     ],
     "language": "python",
     "metadata": {},
     "outputs": [],
     "prompt_number": 20
    },
    {
     "cell_type": "markdown",
     "metadata": {},
     "source": [
      "Plot all three polynomials separately."
     ]
    },
    {
     "cell_type": "code",
     "collapsed": false,
     "input": [
      "plt.plot(x, L0, 'b')\n",
      "plt.plot(x, L1, 'g')\n",
      "plt.plot(x, L2, 'k')\n",
      "plt.axis([0, 6, -10, 10])\n",
      "plt.legend((\"L0\", \"L1\", \"L2\"), loc=\"upper center\")"
     ],
     "language": "python",
     "metadata": {},
     "outputs": [
      {
       "metadata": {},
       "output_type": "pyout",
       "prompt_number": 24,
       "text": [
        "<matplotlib.legend.Legend at 0x353a250>"
       ]
      },
      {
       "metadata": {},
       "output_type": "display_data",
       "png": "[encoded data removed]",
       "text": [
        "<matplotlib.figure.Figure at 0x36d2c50>"
       ]
      }
     ],
     "prompt_number": 24
    },
    {
     "cell_type": "markdown",
     "metadata": {},
     "source": [
      "This is what the polynomials we will combine look like. Let's combine them, plot the output and compare to f(x) itself. "
     ]
    },
    {
     "cell_type": "code",
     "collapsed": false,
     "input": [
      "P = f(x_vals[0])*L0 + f(x_vals[1])*L1 + f(x_vals[2])*L2\n",
      "F = f(x)\n",
      "plt.plot(x, P, 'b')\n",
      "plt.plot(x, F, 'g')\n",
      "plt.axis([0, 6, -10, 10])\n",
      "plt.legend((\"Interp\", \"Function\"), loc=\"upper center\")"
     ],
     "language": "python",
     "metadata": {},
     "outputs": [
      {
       "ename": "SyntaxError",
       "evalue": "invalid syntax (<ipython-input-30-238ddd5e7838>, line 3)",
       "output_type": "pyerr",
       "traceback": [
        "\u001b[1;36m  File \u001b[1;32m\"<ipython-input-30-238ddd5e7838>\"\u001b[1;36m, line \u001b[1;32m3\u001b[0m\n\u001b[1;33m    plt.plot(x, P, lw=2 'b')\u001b[0m\n\u001b[1;37m                          ^\u001b[0m\n\u001b[1;31mSyntaxError\u001b[0m\u001b[1;31m:\u001b[0m invalid syntax\n"
       ]
      }
     ],
     "prompt_number": 30
    },
    {
     "cell_type": "code",
     "collapsed": false,
     "input": [],
     "language": "python",
     "metadata": {},
     "outputs": []
    }
   ],
   "metadata": {}
  }
 ]
}