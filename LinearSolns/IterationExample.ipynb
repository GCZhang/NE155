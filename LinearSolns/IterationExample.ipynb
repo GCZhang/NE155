{
 "metadata": {
  "name": ""
 },
 "nbformat": 3,
 "nbformat_minor": 0,
 "worksheets": [
  {
   "cells": [
    {
     "cell_type": "heading",
     "level": 1,
     "metadata": {},
     "source": [
      "Example: compare GS and SOR"
     ]
    },
    {
     "cell_type": "markdown",
     "metadata": {},
     "source": [
      "Let's look at \n",
      "\n",
      "$$\n",
      "\\begin{equation}\n",
      "\\begin{pmatrix}\n",
      "  4  &  3 & 0 \\\\\n",
      "  3  &  4 & -1 \\\\\n",
      "  0  & -1 & 4\n",
      "\\end{pmatrix}\n",
      "%\n",
      "\\begin{pmatrix} x_1 \\\\ x_2 \\\\ x_3 \\end{pmatrix} \n",
      "%\n",
      "= \\begin{pmatrix} 24 \\\\ 30 \\\\ -24 \\end{pmatrix} \\nonumber\n",
      "\\end{equation}\n",
      "$$\n",
      "\n",
      "with both GS and SOR. In  both cases we'll start with $\\vec{x}^{(0)} = [1, 1, 1]^T$. \n",
      "\n",
      "The exact solution is $[3, 4, -5]^T$."
     ]
    },
    {
     "cell_type": "heading",
     "level": 2,
     "metadata": {},
     "source": [
      "Gauss Seidel"
     ]
    },
    {
     "cell_type": "markdown",
     "metadata": {},
     "source": [
      "Recall:\n",
      "\n",
      "for $i = 1, \\dots, n$:\n",
      "$$\\qquad x^{(k+1)}_i = \\frac{1}{a_{ii}}(b_i - \\sum_{j=1}^{i-1} a_{ij} x_j^{(k+1)} - \\sum_{j=i+1}^{n} a_{ij} x_j^{(k)}) \\:.$$\n",
      "\n",
      "Writing this out for our case gives\n",
      "\n",
      "\\begin{align}\n",
      "x_1^{(k+1)} &= \\frac{1}{4}(24 - 3 x_2^{(k)} - 0 x_3^{(k)}) \n",
      "= 6 - \\frac{3}{4}x_2^{(k)} \\nonumber \\\\\n",
      "%\n",
      "x_2^{(k+1)} &= \\frac{1}{4}(30 - 3 x_1^{(k+1)} - (-1) x_3^{(k)}) \n",
      "= \\frac{30}{4} - \\frac{3}{4}x_1^{(k+1)} + \\frac{1}{4}x_3^{(k)}\\nonumber \\\\\n",
      "%\n",
      "x_3^{(k+1)} &= \\frac{1}{4}(-24 - 0 x_1^{(k+1)} - (-1) x_2^{(k+1)}) \n",
      "= -6 + \\frac{1}{4}x_2^{(k+1)}\\nonumber\n",
      "\\end{align}"
     ]
    },
    {
     "cell_type": "code",
     "collapsed": false,
     "input": [
      "%matplotlib inline\n",
      "import numpy as np\n",
      "import matplotlib.pyplot as plt\n",
      "\n",
      "def GS(A, b, x_0, K, ref):\n",
      "\n",
      "    # Define the size of our system\n",
      "    n = len(x_0)\n",
      "    \n",
      "    # We've got an initial guess, x_0, and an iteration count to hit, K\n",
      "    # To track progress through the iterations, we'll store all of our\n",
      "    # estimates. You wouldn't typically do this, but we will for illustration.\n",
      "    x = np.zeros((K+1, n))\n",
      "    x[0] = x_0\n",
      "    # We'd also like to track our error (since we know the real solution)\n",
      "    error = np.zeros((K+1, n))\n",
      "    error[0] = np.abs(ref - x[0])\n",
      "    \n",
      "    for k in range(0,K):\n",
      "\n",
      "        for i in range(0, n):\n",
      "\n",
      "            # Initialize the summation terms to zero on each iteration\n",
      "            sum_1 = 0.0\n",
      "            sum_2 = 0.0\n",
      "\n",
      "            # the k+1 term from 0 to i-1 \n",
      "            for j in range(i):\n",
      "\n",
      "                sum_1 = sum_1 + A[i][j] * x[k+1][j]\n",
      "\n",
      "            # the k term from i+1 to n\n",
      "            for j in range(i+1, n):\n",
      "\n",
      "                sum_2 = sum_2 + A[i][j] * x[k][j]\n",
      "\n",
      "            x[k+1][i] = 1.0/A[i][i] * (b[i] - sum_1 - sum_2)\n",
      "            \n",
      "        # compute the error\n",
      "        error[k+1] = np.abs(ref - x[k+1])\n",
      "\n",
      "    return x, error\n",
      "    \n",
      "\n",
      "x_0 = np.ones(3)\n",
      "A = [[ 4,  3, 0], [3,  4, -1] ,[0, -1, 4]]\n",
      "b = [24, 30, -24]\n",
      "ref = [3, 4, -5]\n",
      "\n",
      "x, error = GS(A, b, x_0, 4, ref)\n",
      "print x\n",
      "print error\n"
     ],
     "language": "python",
     "metadata": {},
     "outputs": [
      {
       "output_type": "stream",
       "stream": "stdout",
       "text": [
        "[[ 1.          1.          1.        ]\n",
        " [ 5.25        3.8125     -5.046875  ]\n",
        " [ 3.140625    3.8828125  -5.02929688]\n",
        " [ 3.08789062  3.92675781 -5.01831055]\n",
        " [ 3.05493164  3.95422363 -5.01144409]]\n",
        "[[ 2.          3.          6.        ]\n",
        " [ 2.25        0.1875      0.046875  ]\n",
        " [ 0.140625    0.1171875   0.02929688]\n",
        " [ 0.08789062  0.07324219  0.01831055]\n",
        " [ 0.05493164  0.04577637  0.01144409]]\n"
       ]
      }
     ],
     "prompt_number": 19
    },
    {
     "cell_type": "code",
     "collapsed": false,
     "input": [],
     "language": "python",
     "metadata": {},
     "outputs": []
    }
   ],
   "metadata": {}
  }
 ]
}