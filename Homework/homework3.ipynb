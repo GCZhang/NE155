{
 "metadata": {
  "name": ""
 },
 "nbformat": 3,
 "nbformat_minor": 0,
 "worksheets": [
  {
   "cells": [
    {
     "cell_type": "heading",
     "level": 1,
     "metadata": {},
     "source": [
      "Homework 3 Solutions"
     ]
    },
    {
     "cell_type": "heading",
     "level": 2,
     "metadata": {},
     "source": [
      "Question 1"
     ]
    },
    {
     "cell_type": "markdown",
     "metadata": {},
     "source": [
      "There are a few ways to tell if $\\mathbf{A}$ is singular. One we discussed in class is that $\\det(\\mathbf{A})=0$."
     ]
    },
    {
     "cell_type": "markdown",
     "metadata": {},
     "source": [
      "For $n=100$ solve this tridiagonal system of equations in the following ways:\n",
      "\n",
      "\\begin{align}\n",
      "&2x_0 - x_1 = 1 \\nonumber \\\\\n",
      "%\n",
      "-x_{j-1} + &2x_j - x_{j+1} = j+1\\:, \\qquad j = 1, \\dots, n-2 \\nonumber \\\\\n",
      "%\n",
      "-x_{n-2} + &2x_n = n-1 \\nonumber\n",
      "\\end{align}"
     ]
    },
    {
     "cell_type": "code",
     "collapsed": true,
     "input": [
      "import numpy as np\n",
      "import scipy as sci\n",
      "from scipy import sparse\n",
      "from scipy import linalg\n",
      "\n",
      "# Construct the matrix and right hand side.\n",
      "n = 100\n",
      "vals = [-1, 2, -1]\n",
      "diags = [-1, 0, 1]\n",
      "A = sci.sparse.diags(vals, diags, shape=(n,n)).todense()\n",
      "#print A\n",
      "b = np.arange(n, dtype=np.float)\n",
      "#print b\n",
      "\n",
      "# (a) Get the condition number\n",
      "kappa = np.linalg.cond(A)\n",
      "print \"(a) the condition number of A is \", kappa, \"\\n\"\n",
      "\n",
      "# (b) Solve by explicit inversion\n",
      "x1 = np.dot(sci.linalg.inv(A), b)\n",
      "print \"(b) x from explicit inversion \\n\", x1, \"\\n\"\n",
      "\n",
      "# (c) Solve with linalg.solve\n",
      "x2 = sci.linalg.solve(A,b)\n",
      "print \"(c) x from the solve function \\n\", x2, \"\\n\"\n",
      "\n",
      "#x3 = sci.linalg.solve_banded((n-1,n-1), A, b)\n",
      "#print x3\n"
     ],
     "language": "python",
     "metadata": {},
     "outputs": [
      {
       "output_type": "stream",
       "stream": "stdout",
       "text": [
        "(a) the condition number of A is  4133.6429268 \n",
        "\n",
        "(b) x from explicit inversion \n",
        "[  1650.   3300.   4949.   6596.   8240.   9880.  11515.  13144.  14766.\n",
        "  16380.  17985.  19580.  21164.  22736.  24295.  25840.  27370.  28884.\n",
        "  30381.  31860.  33320.  34760.  36179.  37576.  38950.  40300.  41625.\n",
        "  42924.  44196.  45440.  46655.  47840.  48994.  50116.  51205.  52260.\n",
        "  53280.  54264.  55211.  56120.  56990.  57820.  58609.  59356.  60060.\n",
        "  60720.  61335.  61904.  62426.  62900.  63325.  63700.  64024.  64296.\n",
        "  64515.  64680.  64790.  64844.  64841.  64780.  64660.  64480.  64239.\n",
        "  63936.  63570.  63140.  62645.  62084.  61456.  60760.  59995.  59160.\n",
        "  58254.  57276.  56225.  55100.  53900.  52624.  51271.  49840.  48330.\n",
        "  46740.  45069.  43316.  41480.  39560.  37555.  35464.  33286.  31020.\n",
        "  28665.  26220.  23684.  21056.  18335.  15520.  12610.   9604.   6501.\n",
        "   3300.] \n",
        "\n",
        "(c) x from the solve function \n",
        "[  1650.   3300.   4949.   6596.   8240.   9880.  11515.  13144.  14766.\n",
        "  16380.  17985.  19580.  21164.  22736.  24295.  25840.  27370.  28884.\n",
        "  30381.  31860.  33320.  34760.  36179.  37576.  38950.  40300.  41625.\n",
        "  42924.  44196.  45440.  46655.  47840.  48994.  50116.  51205.  52260.\n",
        "  53280.  54264.  55211.  56120.  56990.  57820.  58609.  59356.  60060.\n",
        "  60720.  61335.  61904.  62426.  62900.  63325.  63700.  64024.  64296.\n",
        "  64515.  64680.  64790.  64844.  64841.  64780.  64660.  64480.  64239.\n",
        "  63936.  63570.  63140.  62645.  62084.  61456.  60760.  59995.  59160.\n",
        "  58254.  57276.  56225.  55100.  53900.  52624.  51271.  49840.  48330.\n",
        "  46740.  45069.  43316.  41480.  39560.  37555.  35464.  33286.  31020.\n",
        "  28665.  26220.  23684.  21056.  18335.  15520.  12610.   9604.   6501.\n",
        "   3300.] \n",
        "\n"
       ]
      }
     ],
     "prompt_number": 33
    },
    {
     "cell_type": "markdown",
     "metadata": {},
     "source": [
      "Now Plot the solution"
     ]
    },
    {
     "cell_type": "code",
     "collapsed": true,
     "input": [
      "%matplotlib inline\n",
      "import matplotlib.pyplot as plt\n",
      "\n",
      "plt.plot(x1, 'b*')\n",
      "plt.plot(x2, 'g+')\n",
      "plt.legend((\"inverse\", \"solver\"), loc=\"lower center\")\n",
      "plt.title(\"Ax = b solution two ways\")\n",
      "plt.xlabel(\"x index\")\n",
      "plt.ylabel(\"soltuion\")"
     ],
     "language": "python",
     "metadata": {},
     "outputs": [
      {
       "metadata": {},
       "output_type": "pyout",
       "prompt_number": 43,
       "text": [
        "<matplotlib.text.Text at 0x4b02550>"
       ]
      },
      {
       "metadata": {},
       "output_type": "display_data",
       "png": "[encoded data removed]",
       "text": [
        "<matplotlib.figure.Figure at 0x30de050>"
       ]
      }
     ],
     "prompt_number": 43
    },
    {
     "cell_type": "heading",
     "level": 2,
     "metadata": {},
     "source": [
      "Question 2"
     ]
    },
    {
     "cell_type": "code",
     "collapsed": false,
     "input": [
      "A = [[2, -1],\n",
      "     [-1,  2]]\n",
      "(aval, avec) = np.linalg.eig(A)\n",
      "print \"A's eigenvalues and eigenvectors\\n\", aval, \"\\n\", avec, \"\\n\"\n",
      "\n",
      "B = [[2, 1, 0],\n",
      "     [1, 2, 0],\n",
      "     [0, 0, 3]]\n",
      "(bval, bvec) = np.linalg.eig(B)\n",
      "print \"B's eigenvalues and eigenvectors\\n\", bval, \"\\n\", bvec, \"\\n\"\n",
      "\n",
      "C = [[3, 2, -1],\n",
      "     [1, -2, 3],\n",
      "     [2, 0, 4]]\n",
      "(cval, cvec) = np.linalg.eig(C)\n",
      "print \"C's eigenvalues and eigenvectors\\n\", cval, \"\\n\", cvec, \"\\n\"\n",
      "\n"
     ],
     "language": "python",
     "metadata": {},
     "outputs": [
      {
       "output_type": "stream",
       "stream": "stdout",
       "text": [
        "A's eigenvalues and eigenvectors\n",
        "[ 3.  1.] \n",
        "[[ 0.70710678  0.70710678]\n",
        " [-0.70710678  0.70710678]] \n",
        "\n",
        "B's eigenvalues and eigenvectors\n",
        "[ 3.  1.  3.] \n",
        "[[ 0.70710678 -0.70710678  0.        ]\n",
        " [ 0.70710678  0.70710678  0.        ]\n",
        " [ 0.          0.          1.        ]] \n",
        "\n",
        "C's eigenvalues and eigenvectors\n",
        "[ 4.  3. -2.] \n",
        "[[  5.55111512e-16  -4.08248290e-01   3.48742916e-01]\n",
        " [ -4.47213595e-01   4.08248290e-01  -9.29981110e-01]\n",
        " [ -8.94427191e-01   8.16496581e-01  -1.16247639e-01]] \n",
        "\n"
       ]
      }
     ],
     "prompt_number": 3
    },
    {
     "cell_type": "heading",
     "level": 2,
     "metadata": {},
     "source": [
      "Question 3"
     ]
    },
    {
     "cell_type": "markdown",
     "metadata": {},
     "source": [
      "To determine which system is which, write the equations in matrix form and row-reduce. If the condition $a_{ii} \\neq 0$ is not met $\\forall i$, then the system has either no solution or infinitely many solutions. This can also be checked by seeing if the determinant is non-zero.\n",
      "\n",
      "If, after row-reduction, $a_{ii} =  0$ for some $i$ (or the determinant is zero), then the system has infinitely many solutions if a free-variable can be established or no solution if one cannot.\n",
      "\n"
     ]
    },
    {
     "cell_type": "code",
     "collapsed": true,
     "input": [
      "M1 = [[4, -1, 2, 3],\n",
      "     [0, -2, 7, -4],\n",
      "     [0, 0,  6, 5],\n",
      "     [0, 0, 0, 3]]\n",
      "print \"det(M1)=\", np.linalg.det(M1)\n",
      "\n",
      "M2 = [[4, -1, 2, 3],\n",
      "     [0, 0, 7, -4],\n",
      "     [0, 0, 6, 5],\n",
      "     [0, 0, 0, 3]]\n",
      "print \"det(M2)=\", np.linalg.det(M2)\n",
      "\n",
      "M3 = [[4, -1, 2, 3],\n",
      "     [0, 0, 7, 0],\n",
      "     [0, 0, 6, 5],\n",
      "     [0, 0, 0, 3]]\n",
      "print \"det(M3)=\", np.linalg.det(M3)\n",
      "\n",
      "b = [20, -7, 4, 6]\n",
      "\n",
      "x1 = np.linalg.solve(M1, b)\n",
      "print \"\\nx1 \", x1\n"
     ],
     "language": "python",
     "metadata": {},
     "outputs": [
      {
       "output_type": "stream",
       "stream": "stdout",
       "text": [
        "det(M1)= -144.0\n",
        "det(M2)= 0.0\n",
        "det(M3)= 0.0\n",
        "\n",
        "x1  [ 3. -4. -1.  2.]\n"
       ]
      }
     ],
     "prompt_number": 4
    },
    {
     "cell_type": "heading",
     "level": 2,
     "metadata": {},
     "source": [
      "Question 4"
     ]
    },
    {
     "cell_type": "markdown",
     "metadata": {},
     "source": [
      "We have three points and three unknowns in $y = a + bx + cx^2$. We can therefore create system of equations to create a matrix problem:"
     ]
    },
    {
     "cell_type": "code",
     "collapsed": false,
     "input": [
      "A = [[1, 1, 1],\n",
      "     [1, 2, 4],\n",
      "     [1, 3, 9]]\n",
      "b = [1, -1, 1]\n",
      "\n",
      "x = np.linalg.solve(A, b)\n",
      "print \"Parabola equation is: y=\", x[0], \"+\", x[1], \"x +\", x[2], \"x^2\""
     ],
     "language": "python",
     "metadata": {},
     "outputs": [
      {
       "output_type": "stream",
       "stream": "stdout",
       "text": [
        "Parabola equation is: y= 7.0 + -8.0 x + 2.0 x^2\n"
       ]
      }
     ],
     "prompt_number": 5
    },
    {
     "cell_type": "heading",
     "level": 2,
     "metadata": {},
     "source": [
      "Question 5"
     ]
    },
    {
     "cell_type": "markdown",
     "metadata": {},
     "source": [
      "Find the maxiumum absolute value eigenvalue of each matrix."
     ]
    },
    {
     "cell_type": "code",
     "collapsed": false,
     "input": [
      "A = [[0, 0.5],\n",
      "     [0.5,  0]]\n",
      "(aval, avec) = np.linalg.eig(A)\n",
      "print \"A's spectral radius is\", np.max(aval), \"\\n\"\n",
      "\n",
      "B = [[-1, 2, 0],\n",
      "     [0, 3, 4],\n",
      "     [0, 0, 7]]\n",
      "(bval, bvec) = np.linalg.eig(B)\n",
      "print \"B's spectral radius is\", np.max(bval), \"\\n\""
     ],
     "language": "python",
     "metadata": {},
     "outputs": [
      {
       "output_type": "stream",
       "stream": "stdout",
       "text": [
        "A's spectral radius is 0.5 \n",
        "\n",
        "B's spectral radius is 7.0 \n",
        "\n"
       ]
      }
     ],
     "prompt_number": 6
    },
    {
     "cell_type": "heading",
     "level": 2,
     "metadata": {},
     "source": [
      "Question 6"
     ]
    },
    {
     "cell_type": "markdown",
     "metadata": {},
     "source": [
      "LU Decomposition"
     ]
    },
    {
     "cell_type": "code",
     "collapsed": false,
     "input": [
      "import scipy.linalg as sci\n",
      "\n",
      "A = [[10, -7, 0],\n",
      "     [-3, 2, 6],\n",
      "     [5, -1, 5]]\n",
      "b = [7, 4, 6]\n",
      "\n",
      "(P, L, U) = sci.lu(A)\n",
      "\n",
      "print \"P\", P, \"\\n\\nL\", L, \"\\n\\nU\", U\n"
     ],
     "language": "python",
     "metadata": {},
     "outputs": [
      {
       "output_type": "stream",
       "stream": "stdout",
       "text": [
        "P [[ 1.  0.  0.]\n",
        " [ 0.  0.  1.]\n",
        " [ 0.  1.  0.]] \n",
        "\n",
        "L [[ 1.    0.    0.  ]\n",
        " [ 0.5   1.    0.  ]\n",
        " [-0.3  -0.04  1.  ]] \n",
        "\n",
        "U [[ 10.   -7.    0. ]\n",
        " [  0.    2.5   5. ]\n",
        " [  0.    0.    6.2]]\n"
       ]
      }
     ],
     "prompt_number": 7
    },
    {
     "cell_type": "code",
     "collapsed": false,
     "input": [
      "b_new = np.dot(P,b)\n",
      "y = np.linalg.solve(L,b_new)\n",
      "x = np.linalg.solve(U,y)\n",
      "\n",
      "print \"\\nThe solution is\", x"
     ],
     "language": "python",
     "metadata": {},
     "outputs": [
      {
       "output_type": "stream",
       "stream": "stdout",
       "text": [
        "\n",
        "The solution is [ 0. -1.  1.]\n"
       ]
      }
     ],
     "prompt_number": 8
    },
    {
     "cell_type": "code",
     "collapsed": false,
     "input": [],
     "language": "python",
     "metadata": {},
     "outputs": []
    }
   ],
   "metadata": {}
  }
 ]
}