{
 "metadata": {
  "name": ""
 },
 "nbformat": 3,
 "nbformat_minor": 0,
 "worksheets": [
  {
   "cells": [
    {
     "cell_type": "heading",
     "level": 1,
     "metadata": {},
     "source": [
      "Homework 2 Solutions"
     ]
    },
    {
     "cell_type": "heading",
     "level": 2,
     "metadata": {},
     "source": [
      "Question 1"
     ]
    },
    {
     "cell_type": "markdown",
     "metadata": {},
     "source": [
      "There are a few ways to tell if $\\mathbf{A}$ is singular. One we discussed in class is that the determinant of $\\mathbf{A}=0$."
     ]
    },
    {
     "cell_type": "markdown",
     "metadata": {},
     "source": [
      "\\begin{equation}\n",
      "\\text{a.} \\begin{pmatrix}\n",
      "   4 &  2 &  6 \\\\\n",
      "   3 &  0 &  7 \\\\\n",
      "  -2 & -1 & -3\n",
      "\\end{pmatrix} \\qquad\n",
      "%\n",
      "\\text{b.} \\begin{pmatrix}\n",
      "  2 &  0 & 0 \\\\\n",
      "  0 & -3 & 0 \\\\\n",
      "  0 &  0 & 1\n",
      "\\end{pmatrix} \\qquad \n",
      "\\text{c.} \\begin{pmatrix}\n",
      "  1  & 1 & -1 & -1 \\\\\n",
      "  1  & 2 & -4 & -2 \\\\\n",
      "  2  & 1 &  1 & 5 \\\\\n",
      "  -1 & 0 & -2 & -4\n",
      "\\end{pmatrix} \\nonumber\n",
      "\\end{equation}"
     ]
    },
    {
     "cell_type": "code",
     "collapsed": true,
     "input": [
      "import numpy as np\n",
      "\n",
      "A = [[4,  2,  6],\n",
      "     [3,  0,  7],\n",
      "     [-2, -1, -3]]\n",
      "print \"det(A)=\", np.linalg.det(A)\n",
      "\n",
      "B = [[2, 0, 0],\n",
      "     [0, -3, 0],\n",
      "     [0, 0, 1]]\n",
      "print \"det(B)=\", np.linalg.det(B)\n",
      "\n",
      "C = [[1, 1, -1, -1],\n",
      "     [1, 2, -4, -2],\n",
      "     [2, 1,  1, 5],\n",
      "     [-1, 0, -2, -4]]\n",
      "print \"det(C)=\", np.linalg.det(C)"
     ],
     "language": "python",
     "metadata": {},
     "outputs": [
      {
       "output_type": "stream",
       "stream": "stdout",
       "text": [
        "det(A)= 0.0\n",
        "det(B)= -6.0\n",
        "det(C)= 0.0\n"
       ]
      }
     ],
     "prompt_number": 1
    },
    {
     "cell_type": "markdown",
     "metadata": {},
     "source": [
      "Only $\\mathbf{B}$ is non-singular, so let's comput it's inverse."
     ]
    },
    {
     "cell_type": "code",
     "collapsed": true,
     "input": [
      "print \"B^-1=\\n\", np.linalg.inv(B)"
     ],
     "language": "python",
     "metadata": {},
     "outputs": [
      {
       "output_type": "stream",
       "stream": "stdout",
       "text": [
        "B^-1=\n",
        "[[ 0.5         0.          0.        ]\n",
        " [-0.         -0.33333333 -0.        ]\n",
        " [ 0.          0.          1.        ]]\n"
       ]
      }
     ],
     "prompt_number": 2
    },
    {
     "cell_type": "heading",
     "level": 2,
     "metadata": {},
     "source": [
      "Question 2"
     ]
    },
    {
     "cell_type": "code",
     "collapsed": false,
     "input": [
      "A = [[2, -1],\n",
      "     [-1,  2]]\n",
      "print \"A's eigenvalues and eigenvectors \", np.linalg.eig(A), \"\\n\"\n",
      "\n",
      "B = [[2, 1, 0],\n",
      "     [1, 2, 0],\n",
      "     [0, 0, 3]]\n",
      "print \"B's eigenvalues and eigenvectors \", np.linalg.eig(B), \"\\n\"\n",
      "\n",
      "C = [[3, 2, -1],\n",
      "     [1, -2, 3],\n",
      "     [2, 0, 4]]\n",
      "print \"C's eigenvalues and eigenvectors \", np.linalg.eig(C), \"\\n\"\n",
      "\n"
     ],
     "language": "python",
     "metadata": {},
     "outputs": [
      {
       "output_type": "stream",
       "stream": "stdout",
       "text": [
        "A's eigenvalues and eigenvectors  (array([ 3.,  1.]), array([[ 0.70710678,  0.70710678],\n",
        "       [-0.70710678,  0.70710678]])) \n",
        "\n",
        "B's eigenvalues and eigenvectors  (array([ 3.,  1.,  3.]), array([[ 0.70710678, -0.70710678,  0.        ],\n",
        "       [ 0.70710678,  0.70710678,  0.        ],\n",
        "       [ 0.        ,  0.        ,  1.        ]])) \n",
        "\n",
        "C's eigenvalues and eigenvectors  (array([ 4.,  3., -2.]), array([[  5.55111512e-16,  -4.08248290e-01,   3.48742916e-01],\n",
        "       [ -4.47213595e-01,   4.08248290e-01,  -9.29981110e-01],\n",
        "       [ -8.94427191e-01,   8.16496581e-01,  -1.16247639e-01]])) \n",
        "\n"
       ]
      }
     ],
     "prompt_number": 16
    },
    {
     "cell_type": "markdown",
     "metadata": {},
     "source": [
      "To combine the polynomials and actually compute an approximation, we use the formula:"
     ]
    },
    {
     "cell_type": "markdown",
     "metadata": {},
     "source": [
      "$$\n",
      "P(x) = \\sum_{k=0}^2 f(x_k)L_k(x) \\\\\n",
      "$$\n",
      "\n",
      "First, we need to define a function to approximate and the three points at which to approximate it."
     ]
    },
    {
     "cell_type": "code",
     "collapsed": true,
     "input": [
      "def f(x):\n",
      "    return 1.0/x\n",
      "\n",
      "x_vals = np.array([2.0, 2.5, 4.0])\n",
      "print x_vals"
     ],
     "language": "python",
     "metadata": {},
     "outputs": [
      {
       "output_type": "stream",
       "stream": "stdout",
       "text": [
        "[ 2.   2.5  4. ]\n"
       ]
      }
     ],
     "prompt_number": 30
    },
    {
     "cell_type": "markdown",
     "metadata": {},
     "source": [
      "Now let's combine the polynomials, plot the output, and compare to $f(x)$ itself. "
     ]
    },
    {
     "cell_type": "code",
     "collapsed": false,
     "input": [
      "P = f(x_vals[0])*L0 + f(x_vals[1])*L1 + f(x_vals[2])*L2\n",
      "F = f(x)\n",
      "plt.plot(x, P, 'b')\n",
      "plt.plot(x, F, 'g')\n",
      "plt.plot(x_vals, f_vals, '*')\n",
      "#plt.axis([0, 6, -10, 10])\n",
      "plt.legend((\"Interpolation\", \"Function\", \"points\"), loc=\"upper center\")"
     ],
     "language": "python",
     "metadata": {},
     "outputs": [
      {
       "metadata": {},
       "output_type": "pyout",
       "prompt_number": 47,
       "text": [
        "<matplotlib.legend.Legend at 0x56e3ed0>"
       ]
      },
      {
       "metadata": {},
       "output_type": "display_data",
       "png": "[encoded data removed]",
       "text": [
        "<matplotlib.figure.Figure at 0x57252d0>"
       ]
      }
     ],
     "prompt_number": 47
    },
    {
     "cell_type": "heading",
     "level": 2,
     "metadata": {},
     "source": [
      "Using SciPy"
     ]
    },
    {
     "cell_type": "markdown",
     "metadata": {},
     "source": [
      "But isn't Python supposed to be super useful? Can't we just do all of that in Python?\n",
      "\n",
      "YES, we can. SciPy () has a Lagrange polynomial interpolation function."
     ]
    },
    {
     "cell_type": "code",
     "collapsed": false,
     "input": [
      "import scipy.interpolate as interp\n",
      "\n",
      "f_vals = f(x_vals)\n",
      "P_scipy = interp.lagrange(x_vals, f_vals)\n",
      "vals_scipy = P_scipy(x)\n",
      "\n",
      "plt.plot(x, vals_scipy, 'b')\n",
      "plt.plot(x, F, 'g')\n",
      "plt.plot(x_vals, f_vals, '*')\n",
      "#plt.axis([0, 6, -10, 10])\n",
      "plt.legend((\"Interpolation\", \"Function\", \"points\"), loc=\"upper center\")"
     ],
     "language": "python",
     "metadata": {},
     "outputs": [
      {
       "metadata": {},
       "output_type": "pyout",
       "prompt_number": 48,
       "text": [
        "<matplotlib.legend.Legend at 0x4b94710>"
       ]
      },
      {
       "metadata": {},
       "output_type": "display_data",
       "png": "[encoded data removed]",
       "text": [
        "<matplotlib.figure.Figure at 0x54fac10>"
       ]
      }
     ],
     "prompt_number": 48
    },
    {
     "cell_type": "code",
     "collapsed": false,
     "input": [],
     "language": "python",
     "metadata": {},
     "outputs": []
    }
   ],
   "metadata": {}
  }
 ]
}