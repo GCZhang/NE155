{
 "metadata": {
  "name": ""
 },
 "nbformat": 3,
 "nbformat_minor": 0,
 "worksheets": [
  {
   "cells": [
    {
     "cell_type": "heading",
     "level": 1,
     "metadata": {},
     "source": [
      "Homework 2 Solutions"
     ]
    },
    {
     "cell_type": "heading",
     "level": 2,
     "metadata": {},
     "source": [
      "Question 1"
     ]
    },
    {
     "cell_type": "markdown",
     "metadata": {},
     "source": [
      "There are a few ways to tell if $\\mathbf{A}$ is singular. One we discussed in class is that $\\det(\\mathbf{A})=0$."
     ]
    },
    {
     "cell_type": "markdown",
     "metadata": {},
     "source": [
      "\\begin{equation}\n",
      "\\text{a.} \\begin{pmatrix}\n",
      "   4 &  2 &  6 \\\\\n",
      "   3 &  0 &  7 \\\\\n",
      "  -2 & -1 & -3\n",
      "\\end{pmatrix} \\qquad\n",
      "%\n",
      "\\text{b.} \\begin{pmatrix}\n",
      "  2 &  0 & 0 \\\\\n",
      "  0 & -3 & 0 \\\\\n",
      "  0 &  0 & 1\n",
      "\\end{pmatrix} \\qquad \n",
      "\\text{c.} \\begin{pmatrix}\n",
      "  1  & 1 & -1 & -1 \\\\\n",
      "  1  & 2 & -4 & -2 \\\\\n",
      "  2  & 1 &  1 & 5 \\\\\n",
      "  -1 & 0 & -2 & -4\n",
      "\\end{pmatrix} \\nonumber\n",
      "\\end{equation}"
     ]
    },
    {
     "cell_type": "code",
     "collapsed": true,
     "input": [
      "import numpy as np\n",
      "\n",
      "A = [[4,  2,  6],\n",
      "     [3,  0,  7],\n",
      "     [-2, -1, -3]]\n",
      "print \"det(A)=\", np.linalg.det(A)\n",
      "\n",
      "B = [[2, 0, 0],\n",
      "     [0, -3, 0],\n",
      "     [0, 0, 1]]\n",
      "print \"det(B)=\", np.linalg.det(B)\n",
      "\n",
      "C = [[1, 1, -1, -1],\n",
      "     [1, 2, -4, -2],\n",
      "     [2, 1,  1, 5],\n",
      "     [-1, 0, -2, -4]]\n",
      "print \"det(C)=\", np.linalg.det(C)"
     ],
     "language": "python",
     "metadata": {},
     "outputs": [
      {
       "output_type": "stream",
       "stream": "stdout",
       "text": [
        "det(A)= 0.0\n",
        "det(B)= -6.0\n",
        "det(C)= 0.0\n"
       ]
      }
     ],
     "prompt_number": 1
    },
    {
     "cell_type": "markdown",
     "metadata": {},
     "source": [
      "Only $\\mathbf{B}$ is non-singular, so let's comput it's inverse."
     ]
    },
    {
     "cell_type": "code",
     "collapsed": true,
     "input": [
      "print \"B^-1=\\n\", np.linalg.inv(B)"
     ],
     "language": "python",
     "metadata": {},
     "outputs": [
      {
       "output_type": "stream",
       "stream": "stdout",
       "text": [
        "B^-1=\n",
        "[[ 0.5         0.          0.        ]\n",
        " [-0.         -0.33333333 -0.        ]\n",
        " [ 0.          0.          1.        ]]\n"
       ]
      }
     ],
     "prompt_number": 2
    },
    {
     "cell_type": "heading",
     "level": 2,
     "metadata": {},
     "source": [
      "Question 2"
     ]
    },
    {
     "cell_type": "code",
     "collapsed": false,
     "input": [
      "A = [[2, -1],\n",
      "     [-1,  2]]\n",
      "(aval, avec) = np.linalg.eig(A)\n",
      "print \"A's eigenvalues and eigenvectors\\n\", aval, \"\\n\", avec, \"\\n\"\n",
      "\n",
      "B = [[2, 1, 0],\n",
      "     [1, 2, 0],\n",
      "     [0, 0, 3]]\n",
      "(bval, bvec) = np.linalg.eig(B)\n",
      "print \"B's eigenvalues and eigenvectors\\n\", bval, \"\\n\", bvec, \"\\n\"\n",
      "\n",
      "C = [[3, 2, -1],\n",
      "     [1, -2, 3],\n",
      "     [2, 0, 4]]\n",
      "(cval, cvec) = np.linalg.eig(C)\n",
      "print \"C's eigenvalues and eigenvectors\\n\", cval, \"\\n\", cvec, \"\\n\"\n",
      "\n"
     ],
     "language": "python",
     "metadata": {},
     "outputs": [
      {
       "output_type": "stream",
       "stream": "stdout",
       "text": [
        "A's eigenvalues and eigenvectors\n",
        "[ 3.  1.] \n",
        "[[ 0.70710678  0.70710678]\n",
        " [-0.70710678  0.70710678]] \n",
        "\n",
        "B's eigenvalues and eigenvectors\n",
        "[ 3.  1.  3.] \n",
        "[[ 0.70710678 -0.70710678  0.        ]\n",
        " [ 0.70710678  0.70710678  0.        ]\n",
        " [ 0.          0.          1.        ]] \n",
        "\n",
        "C's eigenvalues and eigenvectors\n",
        "[ 4.  3. -2.] \n",
        "[[  5.55111512e-16  -4.08248290e-01   3.48742916e-01]\n",
        " [ -4.47213595e-01   4.08248290e-01  -9.29981110e-01]\n",
        " [ -8.94427191e-01   8.16496581e-01  -1.16247639e-01]] \n",
        "\n"
       ]
      }
     ],
     "prompt_number": 3
    },
    {
     "cell_type": "heading",
     "level": 2,
     "metadata": {},
     "source": [
      "Question 3"
     ]
    },
    {
     "cell_type": "markdown",
     "metadata": {},
     "source": [
      "To determine which system is which, write the equations in matrix form and row-reduce. If the condition $a_{ii} \\neq 0$ is not met $\\forall i$, then the system has either no solution or infinitely many solutions. This can also be checked by seeing if the determinant is non-zero.\n",
      "\n",
      "If, after row-reduction, $a_{ii} =  0$ for some $i$ (or the determinant is zero), then the system has infinitely many solutions if a free-variable can be established or no solution if one cannot.\n",
      "\n"
     ]
    },
    {
     "cell_type": "code",
     "collapsed": true,
     "input": [
      "M1 = [[4, -1, 2, 3],\n",
      "     [0, -2, 7, -4],\n",
      "     [0, 0,  6, 5],\n",
      "     [0, 0, 0, 3]]\n",
      "print \"det(M1)=\", np.linalg.det(M1)\n",
      "\n",
      "M2 = [[4, -1, 2, 3],\n",
      "     [0, 0, 7, -4],\n",
      "     [0, 0, 6, 5],\n",
      "     [0, 0, 0, 3]]\n",
      "print \"det(M2)=\", np.linalg.det(M2)\n",
      "\n",
      "M3 = [[4, -1, 2, 3],\n",
      "     [0, 0, 7, 0],\n",
      "     [0, 0, 6, 5],\n",
      "     [0, 0, 0, 3]]\n",
      "print \"det(M3)=\", np.linalg.det(M3)\n",
      "\n",
      "b = [20, -7, 4, 6]\n",
      "\n",
      "x1 = np.linalg.solve(M1, b)\n",
      "print \"\\nx1 \", x1\n"
     ],
     "language": "python",
     "metadata": {},
     "outputs": [
      {
       "output_type": "stream",
       "stream": "stdout",
       "text": [
        "det(M1)= -144.0\n",
        "det(M2)= 0.0\n",
        "det(M3)= 0.0\n",
        "\n",
        "x1  [ 3. -4. -1.  2.]\n"
       ]
      }
     ],
     "prompt_number": 4
    },
    {
     "cell_type": "heading",
     "level": 2,
     "metadata": {},
     "source": [
      "Question 4"
     ]
    },
    {
     "cell_type": "markdown",
     "metadata": {},
     "source": [
      "We have three points and three unknowns in $y = a + bx + cx^2$. We can therefore create system of equations to create a matrix problem:"
     ]
    },
    {
     "cell_type": "code",
     "collapsed": false,
     "input": [
      "A = [[1, 1, 1],\n",
      "     [1, 2, 4],\n",
      "     [1, 3, 9]]\n",
      "b = [1, -1, 1]\n",
      "\n",
      "x = np.linalg.solve(A, b)\n",
      "print \"Parabola equation is: y=\", x[0], \"+\", x[1], \"x +\", x[2], \"x^2\""
     ],
     "language": "python",
     "metadata": {},
     "outputs": [
      {
       "output_type": "stream",
       "stream": "stdout",
       "text": [
        "Parabola equation is: y= 7.0 + -8.0 x + 2.0 x^2\n"
       ]
      }
     ],
     "prompt_number": 5
    },
    {
     "cell_type": "heading",
     "level": 2,
     "metadata": {},
     "source": [
      "Question 5"
     ]
    },
    {
     "cell_type": "markdown",
     "metadata": {},
     "source": [
      "Find the maxiumum absolute value eigenvalue of each matrix."
     ]
    },
    {
     "cell_type": "code",
     "collapsed": false,
     "input": [
      "A = [[0, 0.5],\n",
      "     [0.5,  0]]\n",
      "(aval, avec) = np.linalg.eig(A)\n",
      "print \"A's spectral radius is\", np.max(aval), \"\\n\"\n",
      "\n",
      "B = [[-1, 2, 0],\n",
      "     [0, 3, 4],\n",
      "     [0, 0, 7]]\n",
      "(bval, bvec) = np.linalg.eig(B)\n",
      "print \"B's spectral radius is\", np.max(bval), \"\\n\""
     ],
     "language": "python",
     "metadata": {},
     "outputs": [
      {
       "output_type": "stream",
       "stream": "stdout",
       "text": [
        "A's spectral radius is 0.5 \n",
        "\n",
        "B's spectral radius is 7.0 \n",
        "\n"
       ]
      }
     ],
     "prompt_number": 6
    },
    {
     "cell_type": "heading",
     "level": 2,
     "metadata": {},
     "source": [
      "Question 6"
     ]
    },
    {
     "cell_type": "markdown",
     "metadata": {},
     "source": [
      "LU Decomposition"
     ]
    },
    {
     "cell_type": "code",
     "collapsed": false,
     "input": [
      "import scipy.linalg as sci\n",
      "\n",
      "A = [[10, -7, 0],\n",
      "     [-3, 2, 6],\n",
      "     [5, -1, 5]]\n",
      "b = [7, 4, 6]\n",
      "\n",
      "(P, L, U) = sci.lu(A)\n",
      "\n",
      "print \"P\", P, \"\\n\\nL\", L, \"\\n\\nU\", U\n"
     ],
     "language": "python",
     "metadata": {},
     "outputs": [
      {
       "output_type": "stream",
       "stream": "stdout",
       "text": [
        "P [[ 1.  0.  0.]\n",
        " [ 0.  0.  1.]\n",
        " [ 0.  1.  0.]] \n",
        "\n",
        "L [[ 1.    0.    0.  ]\n",
        " [ 0.5   1.    0.  ]\n",
        " [-0.3  -0.04  1.  ]] \n",
        "\n",
        "U [[ 10.   -7.    0. ]\n",
        " [  0.    2.5   5. ]\n",
        " [  0.    0.    6.2]]\n"
       ]
      }
     ],
     "prompt_number": 7
    },
    {
     "cell_type": "code",
     "collapsed": false,
     "input": [
      "b_new = np.dot(P,b)\n",
      "y = np.linalg.solve(L,b_new)\n",
      "x = np.linalg.solve(U,y)\n",
      "\n",
      "print \"\\nThe solution is\", x"
     ],
     "language": "python",
     "metadata": {},
     "outputs": [
      {
       "output_type": "stream",
       "stream": "stdout",
       "text": [
        "\n",
        "The solution is [ 0. -1.  1.]\n"
       ]
      }
     ],
     "prompt_number": 8
    },
    {
     "cell_type": "code",
     "collapsed": false,
     "input": [],
     "language": "python",
     "metadata": {},
     "outputs": []
    }
   ],
   "metadata": {}
  }
 ]
}